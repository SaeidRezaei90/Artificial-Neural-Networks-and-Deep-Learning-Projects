{
  "nbformat": 4,
  "nbformat_minor": 0,
  "metadata": {
    "colab": {
      "name": "Tosaf_Hw2.ipynb",
      "provenance": [],
      "collapsed_sections": []
    },
    "kernelspec": {
      "name": "python3",
      "display_name": "Python 3"
    }
  },
  "cells": [
    {
      "cell_type": "code",
      "metadata": {
        "id": "BcjF3x3RjCC5"
      },
      "source": [
        "from IPython.core.interactiveshell import InteractiveShell\r\n",
        "InteractiveShell.ast_node_interactivity = \"all\""
      ],
      "execution_count": null,
      "outputs": []
    },
    {
      "cell_type": "markdown",
      "metadata": {
        "id": "u2eWob-5cDdn"
      },
      "source": [
        "# **Imports**"
      ]
    },
    {
      "cell_type": "code",
      "metadata": {
        "id": "njP_HksW-AvE"
      },
      "source": [
        "import os\r\n",
        "import tensorflow as tf\r\n",
        "import numpy as np\r\n",
        "from PIL import Image\r\n",
        "import time\r\n",
        "from matplotlib import cm\r\n",
        "import matplotlib.pyplot as plt\r\n",
        "%matplotlib inline\r\n",
        "\r\n",
        "import random\r\n",
        "import math\r\n",
        "from tensorflow.keras import layers\r\n",
        "import keras\r\n"
      ],
      "execution_count": null,
      "outputs": []
    },
    {
      "cell_type": "markdown",
      "metadata": {
        "id": "8krZvv3GcK8U"
      },
      "source": [
        "Initialized commands"
      ]
    },
    {
      "cell_type": "code",
      "metadata": {
        "id": "5RHPvBIKWiRs"
      },
      "source": [
        "SEED = 1234\r\n",
        "tf.random.set_seed(SEED)  \r\n",
        "cwd = os.getcwd()"
      ],
      "execution_count": null,
      "outputs": []
    },
    {
      "cell_type": "markdown",
      "metadata": {
        "id": "SmIhhFrocU65"
      },
      "source": [
        "### **Functions and classes**"
      ]
    },
    {
      "cell_type": "code",
      "metadata": {
        "id": "wTDoyvpvcW4c"
      },
      "source": [
        "# Read Masks \r\n",
        "def read_rgb_mask(mask_img):\r\n",
        "    '''\r\n",
        "    Given the image Returns the numpy array containing target values\r\n",
        "    '''\r\n",
        "    mask_arr = np.array(mask_img)\r\n",
        "\r\n",
        "    new_mask_arr = np.zeros(mask_arr.shape[:2], dtype=mask_arr.dtype)\r\n",
        "\r\n",
        "    # Use RGB dictionary in 'RGBtoTarget.txt' to convert RGB to target\r\n",
        "    \r\n",
        "    new_mask_arr[np.where(np.all(mask_arr == [0 ,0 ,0],axis=-1))]=0\r\n",
        "    new_mask_arr[np.where(np.all(mask_arr == [254 ,124 ,18],axis=-1))]=0\r\n",
        "    new_mask_arr[np.where(np.all(mask_arr == [255, 255, 255], axis=-1))] = 1\r\n",
        "    new_mask_arr[np.where(np.all(mask_arr == [216, 67, 82], axis=-1))] = 2\r\n",
        "    new_mask_arr = np.expand_dims(new_mask_arr, -1) # to be received as an Image\r\n",
        "\r\n",
        "\r\n",
        "    return new_mask_arr  "
      ],
      "execution_count": null,
      "outputs": []
    },
    {
      "cell_type": "code",
      "metadata": {
        "id": "TXybADpxcW06"
      },
      "source": [
        "# ImageDataGenerator\r\n",
        "# ------------------\r\n",
        "\r\n",
        "from tensorflow.keras.preprocessing.image import ImageDataGenerator\r\n",
        "\r\n",
        "apply_data_augmentation = True\r\n",
        "\r\n",
        "# Create training ImageDataGenerator object\r\n",
        "# We need two different generators for images and corresponding masks\r\n",
        "if apply_data_augmentation:\r\n",
        "    img_data_gen = ImageDataGenerator(rotation_range=10,\r\n",
        "                                      width_shift_range=10,\r\n",
        "                                      height_shift_range=10,\r\n",
        "                                      zoom_range=0.3,\r\n",
        "                                      horizontal_flip=True,\r\n",
        "                                      vertical_flip=True,\r\n",
        "                                      fill_mode='reflect')\r\n",
        "    mask_data_gen = ImageDataGenerator(rotation_range=10,\r\n",
        "                                       width_shift_range=10,\r\n",
        "                                       height_shift_range=10,\r\n",
        "                                       zoom_range=0.3,\r\n",
        "                                       horizontal_flip=True,\r\n",
        "                                       vertical_flip=True,\r\n",
        "                                       fill_mode='reflect')"
      ],
      "execution_count": null,
      "outputs": []
    },
    {
      "cell_type": "code",
      "metadata": {
        "id": "rr9IkHAzcWx6"
      },
      "source": [
        "\r\n",
        "class CustomDataset(tf.keras.utils.Sequence):\r\n",
        "\r\n",
        "  \"\"\"\r\n",
        "    CustomDataset inheriting from tf.keras.utils.Sequence.\r\n",
        "\r\n",
        "    3 main methods:\r\n",
        "      - __init__: save dataset params like directory, filenames..\r\n",
        "      - __len__: return the total number of samples in the dataset\r\n",
        "      - __getitem__: return a sample from the dataset\r\n",
        "\r\n",
        "    Note: \r\n",
        "      - the custom dataset return a single sample from the dataset. Then, we use \r\n",
        "        a tf.data.Dataset object to group samples into batches.\r\n",
        "      - in this case we have a different structure of the dataset in memory. \r\n",
        "        We have all the images in the same folder and the training and validation splits\r\n",
        "        are defined according to the different subset_list.\r\n",
        "\r\n",
        "  \"\"\"\r\n",
        "\r\n",
        "  def __init__(self, dataset_dir,which_subset, subset_filenames, img_generator=None, mask_generator=None, \r\n",
        "               preprocessing_function=None, out_shape=[256, 256]):\r\n",
        "    # if which_subset == 'training':\r\n",
        "    #   subset_file = os.path.join(dataset_dir, 'Splits', 'train.txt')\r\n",
        "    # elif which_subset == 'validation':\r\n",
        "    #   subset_file = os.path.join(dataset_dir, 'Splits', 'val.txt')\r\n",
        "    \r\n",
        "    # with open(subset_file, 'r') as f:\r\n",
        "    #   lines = f.readlines()\r\n",
        "    \r\n",
        "    # subset_filenames = []\r\n",
        "    # for line in lines:\r\n",
        "    #   subset_filenames.append(line.strip()) \r\n",
        "    out_mask=np.zeros([256,256,1])\r\n",
        "    self.out_mask=out_mask\r\n",
        "    self.which_subset = which_subset\r\n",
        "    self.dataset_dir = dataset_dir\r\n",
        "    self.subset_filenames = subset_filenames\r\n",
        "    self.img_generator = img_generator\r\n",
        "    self.mask_generator = mask_generator\r\n",
        "    self.preprocessing_function = preprocessing_function\r\n",
        "    self.out_shape = out_shape\r\n",
        "\r\n",
        "  def __len__(self):\r\n",
        "    return len(self.subset_filenames)\r\n",
        "\r\n",
        "  def __getitem__(self, index):\r\n",
        "    # Read Image\r\n",
        "    curr_filename = self.subset_filenames[index]\r\n",
        "\r\n",
        "    \r\n",
        "    if (curr_filename+'.jpg') in (os.listdir(os.path.join(self.dataset_dir, 'Haricot', 'Images'))):\r\n",
        "        img = Image.open(os.path.join(self.dataset_dir, 'Haricot', 'Images', curr_filename  + '.jpg'))\r\n",
        "        mask = Image.open(os.path.join(self.dataset_dir, 'Haricot', 'Masks', curr_filename  + '.png'))\r\n",
        "\r\n",
        "    else:\r\n",
        "        img = Image.open(os.path.join(self.dataset_dir, 'Mais', 'Images', curr_filename  + '.jpg'))\r\n",
        "        mask = Image.open(os.path.join(self.dataset_dir, 'Mais', 'Masks', curr_filename  + '.png'))\r\n",
        "\r\n",
        "\r\n",
        "\r\n",
        "    # img = Image.open(os.path.join(self.dataset_dir, 'Haricot', 'Images', curr_filename))\r\n",
        "    # img = Image.open(os.path.join(self.dataset_dir, 'Mais', 'Images', curr_filename))\r\n",
        "\r\n",
        "    # mask = Image.open(os.path.join(self.dataset_dir, 'Haricot', 'Masks', curr_filename))\r\n",
        "    # mask = Image.open(os.path.join(self.dataset_dir, 'Mais', 'Masks', curr_filename))\r\n",
        "\r\n",
        "\r\n",
        "    # Resize image and mask\r\n",
        "    img = img.resize(self.out_shape)\r\n",
        "    mask = mask.resize(self.out_shape, resample=Image.NEAREST)\r\n",
        "    \r\n",
        "    img_arr = np.array(img)\r\n",
        "    mask_arr = read_rgb_mask(mask)\r\n",
        "\r\n",
        "    if self.which_subset == 'training':\r\n",
        "      if self.img_generator is not None and self.mask_generator is not None:\r\n",
        "        # Perform data augmentation\r\n",
        "        # We can get a random transformation from the ImageDataGenerator using get_random_transform\r\n",
        "        # and we can apply it to the image using apply_transform\r\n",
        "        img_t = self.img_generator.get_random_transform(img_arr.shape, seed=SEED)\r\n",
        "        mask_t = self.mask_generator.get_random_transform(mask_arr.shape, seed=SEED)\r\n",
        "        img_arr = self.img_generator.apply_transform(img_arr, img_t)\r\n",
        "        # ImageDataGenerator use bilinear interpolation for augmenting the images.\r\n",
        "        # Thus, when applied to the masks it will output 'interpolated classes', which\r\n",
        "        # is an unwanted behaviour. As a trick, we can transform each class mask \r\n",
        "        # separately and then we can cast to integer values (as in the binary segmentation notebook).\r\n",
        "        # Finally, we merge the augmented binary masks to obtain the final segmentation mask.\r\n",
        "        self.out_mask = np.zeros_like(mask_arr)\r\n",
        "        for c in np.unique(mask_arr):\r\n",
        "          if c > 0:\r\n",
        "            curr_class_arr = np.float32(mask_arr == c)\r\n",
        "            curr_class_arr = self.mask_generator.apply_transform(curr_class_arr, mask_t)\r\n",
        "            # from [0, 1] to {0, 1}\r\n",
        "            curr_class_arr = np.uint8(curr_class_arr)\r\n",
        "            # recover original class\r\n",
        "            curr_class_arr = curr_class_arr * c \r\n",
        "            self.out_mask += curr_class_arr\r\n",
        "    else:\r\n",
        "      self.out_mask = mask_arr\r\n",
        "    \r\n",
        "    if self.preprocessing_function is not None:\r\n",
        "        img_arr = self.preprocessing_function(img_arr)\r\n",
        "\r\n",
        "    # return img_arr, np.float32(out_mask)\r\n",
        "    return img_arr.reshape([256,256,3]),np.float32(self.out_mask).reshape([256,256,1])"
      ],
      "execution_count": null,
      "outputs": []
    },
    {
      "cell_type": "markdown",
      "metadata": {
        "id": "Ev-SaQjurSbj"
      },
      "source": [
        "#**Load The DATA** \r\n"
      ]
    },
    {
      "cell_type": "markdown",
      "metadata": {
        "id": "oyRwC3cKPn3r"
      },
      "source": [
        "### Unzip the file\r\n"
      ]
    },
    {
      "cell_type": "code",
      "metadata": {
        "colab": {
          "base_uri": "https://localhost:8080/"
        },
        "id": "PdAbAuWzkLjP",
        "outputId": "1f659cdb-d220-4093-a86a-400ff3bd1164"
      },
      "source": [
        "# Run this cell only if you are using Colab with Drive\r\n",
        "from google.colab import drive\r\n",
        "drive.mount('/content/drive')"
      ],
      "execution_count": null,
      "outputs": [
        {
          "output_type": "stream",
          "text": [
            "Drive already mounted at /content/drive; to attempt to forcibly remount, call drive.mount(\"/content/drive\", force_remount=True).\n"
          ],
          "name": "stdout"
        }
      ]
    },
    {
      "cell_type": "code",
      "metadata": {
        "colab": {
          "base_uri": "https://localhost:8080/"
        },
        "id": "IEeDRIuQWky1",
        "outputId": "2db2bab0-1fe7-4d9b-8c2e-6c00f9ba8eb9"
      },
      "source": [
        "!unzip /content/drive/My\\ Drive/Development_Dataset.zip"
      ],
      "execution_count": null,
      "outputs": [
        {
          "output_type": "stream",
          "text": [
            "Archive:  /content/drive/My Drive/Development_Dataset.zip\n",
            "replace Development_Dataset/LICENSE.txt? [y]es, [n]o, [A]ll, [N]one, [r]ename: "
          ],
          "name": "stdout"
        }
      ]
    },
    {
      "cell_type": "code",
      "metadata": {
        "colab": {
          "base_uri": "https://localhost:8080/"
        },
        "id": "ZNVgjF4_WmhW",
        "outputId": "8a0bffc3-7a1e-40ac-9e7b-f5fb599e91ca"
      },
      "source": [
        "!ls Development_Dataset/Training/"
      ],
      "execution_count": null,
      "outputs": [
        {
          "output_type": "stream",
          "text": [
            "Bipbip\n"
          ],
          "name": "stdout"
        }
      ]
    },
    {
      "cell_type": "markdown",
      "metadata": {
        "id": "BeFFwtcGgE-z"
      },
      "source": [
        "##Split the train dataset and validation \r\n"
      ]
    },
    {
      "cell_type": "markdown",
      "metadata": {
        "id": "IhDvSg73W5Rp"
      },
      "source": [
        "In this part we divide each image directory into training and validation. Indeed, we create two lists one for training and one for validation images. This happens for Haricot_Bipbip, Mais_Bipbip, Haricot_Pead, Mais_Pead, Haricot_Roseau, Mais_Roseau, Haricot_Weedelec, Mais_Weedelec. At the end, for each team, training images and validation images for both Haricot and Mais are concatinated."
      ]
    },
    {
      "cell_type": "code",
      "metadata": {
        "id": "fmv71kNnXCaI"
      },
      "source": [
        "\r\n",
        "training_splitter = 0.8\r\n",
        "teams_images = ['Bipbip']\r\n",
        "cwd = os.path.join(os.getcwd(),'Development_Dataset', 'Training')\r\n",
        "train_valid_splitter = {}\r\n",
        "for team in teams_images:\r\n",
        "  Haricot_images = os.listdir(os.path.join(cwd,team,'Haricot','Images'))\r\n",
        "  Mais_images = os.listdir(os.path.join(cwd,team,'Mais','Images')) \r\n",
        "  random.shuffle(Haricot_images)\r\n",
        "  random.shuffle(Mais_images)\r\n",
        "  train_valid_splitter[team + '_Haricot_training']= [image[:-4] for image in Haricot_images[:math.ceil((len(Haricot_images)*training_splitter))]]\r\n",
        "  train_valid_splitter[team+'_Haricot_validation'] = [image[:-4] for image in Haricot_images[math.ceil(len(Haricot_images)*training_splitter):]]\r\n",
        "\r\n",
        "  train_valid_splitter[team+'_Mais_training'] = [image[:-4] for image in Mais_images[:math.ceil(len(Mais_images)*training_splitter)]]\r\n",
        "  train_valid_splitter[team+'_Mais_validation'] = [image[:-4] for image in Mais_images[math.ceil(len(Mais_images)*training_splitter):]]\r\n",
        "\r\n",
        "  #Concatinate Haricot and Mais training images and  Haricot and Mais validation images for each team\r\n",
        "  train_valid_splitter[team + '_training']= train_valid_splitter[team + '_Haricot_training'] + train_valid_splitter[team+'_Mais_training']\r\n",
        "  train_valid_splitter[team + '_validation']= train_valid_splitter[team + '_Haricot_validation'] + train_valid_splitter[team+'_Mais_validation']\r\n",
        "\r\n"
      ],
      "execution_count": null,
      "outputs": []
    },
    {
      "cell_type": "code",
      "metadata": {
        "colab": {
          "base_uri": "https://localhost:8080/"
        },
        "id": "6Raz_1wTXESz",
        "outputId": "86346dca-1bad-4fb3-fc65-6dce3bdf35b1"
      },
      "source": [
        "# See lists of training and validation lists\r\n",
        "train_valid_splitter.keys()"
      ],
      "execution_count": null,
      "outputs": [
        {
          "output_type": "execute_result",
          "data": {
            "text/plain": [
              "dict_keys(['Bipbip_Haricot_training', 'Bipbip_Haricot_validation', 'Bipbip_Mais_training', 'Bipbip_Mais_validation', 'Bipbip_training', 'Bipbip_validation'])"
            ]
          },
          "metadata": {
            "tags": []
          },
          "execution_count": 15
        }
      ]
    },
    {
      "cell_type": "code",
      "metadata": {
        "id": "Pwt5qFvB-OBV"
      },
      "source": [
        "#Create a dictionary in order to store image directory adresses\r\n",
        "img_dir_names_dic = dict()\r\n",
        "lst1 = ['Bipbip','Pead', 'Roseau', 'Weedelec']\r\n",
        "# lst2 = ['Haricot', 'Mais']\r\n",
        "common_add = os.path.join(os.getcwd(),'Development_Dataset','Training')\r\n",
        "for name in lst1:\r\n",
        "  img_dir_names_dic[name] = os.path.join(common_add , name)\r\n",
        "  # for crop in lst2:\r\n",
        "    # img_dir_names_dic[name + '_'+crop] = os.path.join(common_add , name , crop)"
      ],
      "execution_count": null,
      "outputs": []
    },
    {
      "cell_type": "code",
      "metadata": {
        "id": "h_vGj5QQ-JEb",
        "colab": {
          "base_uri": "https://localhost:8080/"
        },
        "outputId": "6943226e-6246-4182-f3ae-cb9f3c2534c3"
      },
      "source": [
        "img_dir_names_dic"
      ],
      "execution_count": null,
      "outputs": [
        {
          "output_type": "execute_result",
          "data": {
            "text/plain": [
              "{'Bipbip': '/content/Development_Dataset/Training/Bipbip',\n",
              " 'Pead': '/content/Development_Dataset/Training/Pead',\n",
              " 'Roseau': '/content/Development_Dataset/Training/Roseau',\n",
              " 'Weedelec': '/content/Development_Dataset/Training/Weedelec'}"
            ]
          },
          "metadata": {
            "tags": []
          },
          "execution_count": 17
        }
      ]
    },
    {
      "cell_type": "code",
      "metadata": {
        "id": "k16FLKGm-I4B"
      },
      "source": [
        "from tensorflow.keras.applications.vgg16 import preprocess_input \r\n",
        "\r\n",
        "img_h = 256\r\n",
        "img_w = 256\r\n",
        "dataset_Bipbip = CustomDataset(img_dir_names_dic['Bipbip'], 'training', train_valid_splitter['Bipbip_training'], \r\n",
        "                        img_generator=img_data_gen, mask_generator=mask_data_gen, \r\n",
        "                        preprocessing_function=preprocess_input)\r\n",
        "\r\n",
        "dataset_valid_Bipbip = CustomDataset(img_dir_names_dic['Bipbip'], 'validation', train_valid_splitter['Bipbip_validation'], \r\n",
        "                              preprocessing_function=preprocess_input)"
      ],
      "execution_count": null,
      "outputs": []
    },
    {
      "cell_type": "code",
      "metadata": {
        "id": "GgZVI6DKjDxa"
      },
      "source": [
        "\r\n",
        "train_dataset_Bipbip= tf.data.Dataset.from_generator(lambda: dataset_Bipbip,\r\n",
        "                                               output_types=(tf.float32, tf.float32),\r\n",
        "                                               output_shapes=([img_h, img_w, 3], [img_h, img_w, 1]))\r\n",
        "\r\n",
        "train_dataset_Bipbip = train_dataset_Bipbip.batch(32)\r\n",
        "\r\n",
        "train_dataset_Bipbip = train_dataset_Bipbip.repeat()\r\n",
        "\r\n",
        "valid_dataset_Bipbip = tf.data.Dataset.from_generator(lambda: dataset_valid_Bipbip,\r\n",
        "                                               output_types=(tf.float32, tf.float32),\r\n",
        "                                               output_shapes=([img_h, img_w, 3], [img_h, img_w, 1]))\r\n",
        "valid_dataset_Bipbip = valid_dataset_Bipbip.batch(32)\r\n",
        "\r\n",
        "valid_dataset_Bipbip = valid_dataset_Bipbip.repeat()"
      ],
      "execution_count": null,
      "outputs": []
    },
    {
      "cell_type": "markdown",
      "metadata": {
        "id": "ls7WMNyafB-S"
      },
      "source": [
        "Test and visualize the data generator"
      ]
    },
    {
      "cell_type": "code",
      "metadata": {
        "id": "a7Tp-YUxxDhC"
      },
      "source": [
        "# Assign a color to each class\r\n",
        "\r\n",
        "evenly_spaced_interval = np.linspace(0, 1, 2)\r\n",
        "colors = [cm.rainbow(x) for x in evenly_spaced_interval]\r\n",
        "\r\n",
        "iterator = iter(train_dataset_Bipbip)"
      ],
      "execution_count": null,
      "outputs": []
    },
    {
      "cell_type": "code",
      "metadata": {
        "id": "UEDHPgplQNyf",
        "colab": {
          "base_uri": "https://localhost:8080/",
          "height": 257
        },
        "outputId": "febcc58e-5507-423a-f446-5f9a3de2ef5e"
      },
      "source": [
        "fig, ax = plt.subplots(1, 2)\r\n",
        "\r\n",
        "augmented_img, target = next(iterator)\r\n",
        "augmented_img = augmented_img[0]   # First element\r\n",
        "augmented_img = augmented_img  # denormalize\r\n",
        "\r\n",
        "target = np.array(target[0, ..., 0])   # First element (squeezing channel dimension)\r\n",
        "\r\n",
        "print(np.unique(target))\r\n",
        "\r\n",
        "target_img = np.zeros([target.shape[0], target.shape[1], 3])\r\n",
        "\r\n",
        "target_img[np.where(target == 0)] = [0, 0, 0]\r\n",
        "for i in range(1, 3):\r\n",
        "  target_img[np.where(target == i)] = np.array(colors[i-1])[:3] * 255\r\n",
        "\r\n",
        "ax[0].imshow(np.uint8(augmented_img))\r\n",
        "ax[1].imshow(np.uint8(target_img))\r\n",
        "\r\n",
        "plt.show()"
      ],
      "execution_count": null,
      "outputs": [
        {
          "output_type": "stream",
          "text": [
            "[0. 1. 2.]\n"
          ],
          "name": "stdout"
        },
        {
          "output_type": "execute_result",
          "data": {
            "text/plain": [
              "<matplotlib.image.AxesImage at 0x7f86af417908>"
            ]
          },
          "metadata": {
            "tags": []
          },
          "execution_count": 21
        },
        {
          "output_type": "execute_result",
          "data": {
            "text/plain": [
              "<matplotlib.image.AxesImage at 0x7f867018c9b0>"
            ]
          },
          "metadata": {
            "tags": []
          },
          "execution_count": 21
        },
        {
          "output_type": "display_data",
          "data": {
            "image/png": "[encoded data removed]",
            "text/plain": [
              "<Figure size 432x288 with 2 Axes>"
            ]
          },
          "metadata": {
            "tags": [],
            "needs_background": "light"
          }
        }
      ]
    },
    {
      "cell_type": "markdown",
      "metadata": {
        "id": "2XAzjMqbfLMI"
      },
      "source": [
        "# **U-Net Architecture**\r\n",
        "https://keras.io/examples/vision/oxford_pets_image_segmentation/\r\n",
        "\r\n"
      ]
    },
    {
      "cell_type": "code",
      "metadata": {
        "colab": {
          "base_uri": "https://localhost:8080/"
        },
        "id": "tIprdsWpfK2i",
        "outputId": "610cba3f-6509-4005-ee23-0d33162fcbbe"
      },
      "source": [
        "vgg = tf.keras.applications.VGG16(weights='imagenet', include_top=False, input_shape=(img_h, img_w, 3))\r\n",
        "vgg.summary()\r\n",
        "for layer in vgg.layers:\r\n",
        "  layer.trainable = False"
      ],
      "execution_count": null,
      "outputs": [
        {
          "output_type": "stream",
          "text": [
            "Model: \"vgg16\"\n",
            "_________________________________________________________________\n",
            "Layer (type)                 Output Shape              Param #   \n",
            "=================================================================\n",
            "input_1 (InputLayer)         [(None, 256, 256, 3)]     0         \n",
            "_________________________________________________________________\n",
            "block1_conv1 (Conv2D)        (None, 256, 256, 64)      1792      \n",
            "_________________________________________________________________\n",
            "block1_conv2 (Conv2D)        (None, 256, 256, 64)      36928     \n",
            "_________________________________________________________________\n",
            "block1_pool (MaxPooling2D)   (None, 128, 128, 64)      0         \n",
            "_________________________________________________________________\n",
            "block2_conv1 (Conv2D)        (None, 128, 128, 128)     73856     \n",
            "_________________________________________________________________\n",
            "block2_conv2 (Conv2D)        (None, 128, 128, 128)     147584    \n",
            "_________________________________________________________________\n",
            "block2_pool (MaxPooling2D)   (None, 64, 64, 128)       0         \n",
            "_________________________________________________________________\n",
            "block3_conv1 (Conv2D)        (None, 64, 64, 256)       295168    \n",
            "_________________________________________________________________\n",
            "block3_conv2 (Conv2D)        (None, 64, 64, 256)       590080    \n",
            "_________________________________________________________________\n",
            "block3_conv3 (Conv2D)        (None, 64, 64, 256)       590080    \n",
            "_________________________________________________________________\n",
            "block3_pool (MaxPooling2D)   (None, 32, 32, 256)       0         \n",
            "_________________________________________________________________\n",
            "block4_conv1 (Conv2D)        (None, 32, 32, 512)       1180160   \n",
            "_________________________________________________________________\n",
            "block4_conv2 (Conv2D)        (None, 32, 32, 512)       2359808   \n",
            "_________________________________________________________________\n",
            "block4_conv3 (Conv2D)        (None, 32, 32, 512)       2359808   \n",
            "_________________________________________________________________\n",
            "block4_pool (MaxPooling2D)   (None, 16, 16, 512)       0         \n",
            "_________________________________________________________________\n",
            "block5_conv1 (Conv2D)        (None, 16, 16, 512)       2359808   \n",
            "_________________________________________________________________\n",
            "block5_conv2 (Conv2D)        (None, 16, 16, 512)       2359808   \n",
            "_________________________________________________________________\n",
            "block5_conv3 (Conv2D)        (None, 16, 16, 512)       2359808   \n",
            "_________________________________________________________________\n",
            "block5_pool (MaxPooling2D)   (None, 8, 8, 512)         0         \n",
            "=================================================================\n",
            "Total params: 14,714,688\n",
            "Trainable params: 14,714,688\n",
            "Non-trainable params: 0\n",
            "_________________________________________________________________\n"
          ],
          "name": "stdout"
        }
      ]
    },
    {
      "cell_type": "code",
      "metadata": {
        "colab": {
          "base_uri": "https://localhost:8080/"
        },
        "id": "JRCtTxszXeHk",
        "outputId": "d0145454-3c0f-474b-d975-a8167c0902fa"
      },
      "source": [
        "\r\n",
        "\r\n",
        "def get_model(img_size, num_classes):\r\n",
        "    inputs = keras.Input(shape=img_size + (3,))\r\n",
        "\r\n",
        "    ### [First half of the network: downsampling inputs] ###\r\n",
        "\r\n",
        "    # Entry block\r\n",
        "    x = layers.Conv2D(32, 3, strides=2, padding=\"same\")(inputs)\r\n",
        "    x = layers.BatchNormalization()(x)\r\n",
        "    x = layers.Activation(\"relu\")(x)\r\n",
        "\r\n",
        "    previous_block_activation = x  # Set aside residual\r\n",
        "\r\n",
        "    # Blocks 1, 2, 3 are identical apart from the feature depth.\r\n",
        "    for filters in [64, 128, 256]:\r\n",
        "        x = layers.Activation(\"relu\")(x)\r\n",
        "        x = layers.SeparableConv2D(filters, 3, padding=\"same\")(x)\r\n",
        "        x = layers.BatchNormalization()(x)\r\n",
        "\r\n",
        "        x = layers.Activation(\"relu\")(x)\r\n",
        "        x = layers.SeparableConv2D(filters, 3, padding=\"same\")(x)\r\n",
        "        x = layers.BatchNormalization()(x)\r\n",
        "\r\n",
        "        x = layers.MaxPooling2D(3, strides=2, padding=\"same\")(x)\r\n",
        "\r\n",
        "        # Project residual\r\n",
        "        residual = layers.Conv2D(filters, 1, strides=2, padding=\"same\")(\r\n",
        "            previous_block_activation\r\n",
        "        )\r\n",
        "        x = layers.add([x, residual])  # Add back residual\r\n",
        "        previous_block_activation = x  # Set aside next residual\r\n",
        "\r\n",
        "    ### [Second half of the network: upsampling inputs] ###\r\n",
        "\r\n",
        "    for filters in [256, 128, 64, 32]:\r\n",
        "        x = layers.Activation(\"relu\")(x)\r\n",
        "        x = layers.Conv2DTranspose(filters, 3, padding=\"same\")(x)\r\n",
        "        x = layers.BatchNormalization()(x)\r\n",
        "\r\n",
        "        x = layers.Activation(\"relu\")(x)\r\n",
        "        x = layers.Conv2DTranspose(filters, 3, padding=\"same\")(x)\r\n",
        "        x = layers.BatchNormalization()(x)\r\n",
        "\r\n",
        "        x = layers.UpSampling2D(2)(x)\r\n",
        "\r\n",
        "        # Project residual\r\n",
        "        residual = layers.UpSampling2D(2)(previous_block_activation)\r\n",
        "        residual = layers.Conv2D(filters, 1, padding=\"same\")(residual)\r\n",
        "        x = layers.add([x, residual])  # Add back residual\r\n",
        "        previous_block_activation = x  # Set aside next residual\r\n",
        "\r\n",
        "    # Add a per-pixel classification layer\r\n",
        "    outputs = layers.Conv2D(num_classes, 3, activation=\"softmax\", padding=\"same\")(x)\r\n",
        "\r\n",
        "    # Define the model\r\n",
        "    model = keras.Model(inputs, outputs)\r\n",
        "    return model\r\n",
        "\r\n",
        "\r\n",
        "# Free up RAM in case the model definition cells were run multiple times\r\n",
        "keras.backend.clear_session()\r\n",
        "img_size=(256,256)\r\n",
        "num_classes=3\r\n",
        "# Build model\r\n",
        "model = get_model(img_size, num_classes)\r\n",
        "model.summary()"
      ],
      "execution_count": null,
      "outputs": [
        {
          "output_type": "stream",
          "text": [
            "Model: \"model\"\n",
            "__________________________________________________________________________________________________\n",
            "Layer (type)                    Output Shape         Param #     Connected to                     \n",
            "==================================================================================================\n",
            "input_1 (InputLayer)            [(None, 256, 256, 3) 0                                            \n",
            "__________________________________________________________________________________________________\n",
            "conv2d (Conv2D)                 (None, 128, 128, 32) 896         input_1[0][0]                    \n",
            "__________________________________________________________________________________________________\n",
            "batch_normalization (BatchNorma (None, 128, 128, 32) 128         conv2d[0][0]                     \n",
            "__________________________________________________________________________________________________\n",
            "activation (Activation)         (None, 128, 128, 32) 0           batch_normalization[0][0]        \n",
            "__________________________________________________________________________________________________\n",
            "activation_1 (Activation)       (None, 128, 128, 32) 0           activation[0][0]                 \n",
            "__________________________________________________________________________________________________\n",
            "separable_conv2d (SeparableConv (None, 128, 128, 64) 2400        activation_1[0][0]               \n",
            "__________________________________________________________________________________________________\n",
            "batch_normalization_1 (BatchNor (None, 128, 128, 64) 256         separable_conv2d[0][0]           \n",
            "__________________________________________________________________________________________________\n",
            "activation_2 (Activation)       (None, 128, 128, 64) 0           batch_normalization_1[0][0]      \n",
            "__________________________________________________________________________________________________\n",
            "separable_conv2d_1 (SeparableCo (None, 128, 128, 64) 4736        activation_2[0][0]               \n",
            "__________________________________________________________________________________________________\n",
            "batch_normalization_2 (BatchNor (None, 128, 128, 64) 256         separable_conv2d_1[0][0]         \n",
            "__________________________________________________________________________________________________\n",
            "max_pooling2d (MaxPooling2D)    (None, 64, 64, 64)   0           batch_normalization_2[0][0]      \n",
            "__________________________________________________________________________________________________\n",
            "conv2d_1 (Conv2D)               (None, 64, 64, 64)   2112        activation[0][0]                 \n",
            "__________________________________________________________________________________________________\n",
            "add (Add)                       (None, 64, 64, 64)   0           max_pooling2d[0][0]              \n",
            "                                                                 conv2d_1[0][0]                   \n",
            "__________________________________________________________________________________________________\n",
            "activation_3 (Activation)       (None, 64, 64, 64)   0           add[0][0]                        \n",
            "__________________________________________________________________________________________________\n",
            "separable_conv2d_2 (SeparableCo (None, 64, 64, 128)  8896        activation_3[0][0]               \n",
            "__________________________________________________________________________________________________\n",
            "batch_normalization_3 (BatchNor (None, 64, 64, 128)  512         separable_conv2d_2[0][0]         \n",
            "__________________________________________________________________________________________________\n",
            "activation_4 (Activation)       (None, 64, 64, 128)  0           batch_normalization_3[0][0]      \n",
            "__________________________________________________________________________________________________\n",
            "separable_conv2d_3 (SeparableCo (None, 64, 64, 128)  17664       activation_4[0][0]               \n",
            "__________________________________________________________________________________________________\n",
            "batch_normalization_4 (BatchNor (None, 64, 64, 128)  512         separable_conv2d_3[0][0]         \n",
            "__________________________________________________________________________________________________\n",
            "max_pooling2d_1 (MaxPooling2D)  (None, 32, 32, 128)  0           batch_normalization_4[0][0]      \n",
            "__________________________________________________________________________________________________\n",
            "conv2d_2 (Conv2D)               (None, 32, 32, 128)  8320        add[0][0]                        \n",
            "__________________________________________________________________________________________________\n",
            "add_1 (Add)                     (None, 32, 32, 128)  0           max_pooling2d_1[0][0]            \n",
            "                                                                 conv2d_2[0][0]                   \n",
            "__________________________________________________________________________________________________\n",
            "activation_5 (Activation)       (None, 32, 32, 128)  0           add_1[0][0]                      \n",
            "__________________________________________________________________________________________________\n",
            "separable_conv2d_4 (SeparableCo (None, 32, 32, 256)  34176       activation_5[0][0]               \n",
            "__________________________________________________________________________________________________\n",
            "batch_normalization_5 (BatchNor (None, 32, 32, 256)  1024        separable_conv2d_4[0][0]         \n",
            "__________________________________________________________________________________________________\n",
            "activation_6 (Activation)       (None, 32, 32, 256)  0           batch_normalization_5[0][0]      \n",
            "__________________________________________________________________________________________________\n",
            "separable_conv2d_5 (SeparableCo (None, 32, 32, 256)  68096       activation_6[0][0]               \n",
            "__________________________________________________________________________________________________\n",
            "batch_normalization_6 (BatchNor (None, 32, 32, 256)  1024        separable_conv2d_5[0][0]         \n",
            "__________________________________________________________________________________________________\n",
            "max_pooling2d_2 (MaxPooling2D)  (None, 16, 16, 256)  0           batch_normalization_6[0][0]      \n",
            "__________________________________________________________________________________________________\n",
            "conv2d_3 (Conv2D)               (None, 16, 16, 256)  33024       add_1[0][0]                      \n",
            "__________________________________________________________________________________________________\n",
            "add_2 (Add)                     (None, 16, 16, 256)  0           max_pooling2d_2[0][0]            \n",
            "                                                                 conv2d_3[0][0]                   \n",
            "__________________________________________________________________________________________________\n",
            "activation_7 (Activation)       (None, 16, 16, 256)  0           add_2[0][0]                      \n",
            "__________________________________________________________________________________________________\n",
            "conv2d_transpose (Conv2DTranspo (None, 16, 16, 256)  590080      activation_7[0][0]               \n",
            "__________________________________________________________________________________________________\n",
            "batch_normalization_7 (BatchNor (None, 16, 16, 256)  1024        conv2d_transpose[0][0]           \n",
            "__________________________________________________________________________________________________\n",
            "activation_8 (Activation)       (None, 16, 16, 256)  0           batch_normalization_7[0][0]      \n",
            "__________________________________________________________________________________________________\n",
            "conv2d_transpose_1 (Conv2DTrans (None, 16, 16, 256)  590080      activation_8[0][0]               \n",
            "__________________________________________________________________________________________________\n",
            "batch_normalization_8 (BatchNor (None, 16, 16, 256)  1024        conv2d_transpose_1[0][0]         \n",
            "__________________________________________________________________________________________________\n",
            "up_sampling2d_1 (UpSampling2D)  (None, 32, 32, 256)  0           add_2[0][0]                      \n",
            "__________________________________________________________________________________________________\n",
            "up_sampling2d (UpSampling2D)    (None, 32, 32, 256)  0           batch_normalization_8[0][0]      \n",
            "__________________________________________________________________________________________________\n",
            "conv2d_4 (Conv2D)               (None, 32, 32, 256)  65792       up_sampling2d_1[0][0]            \n",
            "__________________________________________________________________________________________________\n",
            "add_3 (Add)                     (None, 32, 32, 256)  0           up_sampling2d[0][0]              \n",
            "                                                                 conv2d_4[0][0]                   \n",
            "__________________________________________________________________________________________________\n",
            "activation_9 (Activation)       (None, 32, 32, 256)  0           add_3[0][0]                      \n",
            "__________________________________________________________________________________________________\n",
            "conv2d_transpose_2 (Conv2DTrans (None, 32, 32, 128)  295040      activation_9[0][0]               \n",
            "__________________________________________________________________________________________________\n",
            "batch_normalization_9 (BatchNor (None, 32, 32, 128)  512         conv2d_transpose_2[0][0]         \n",
            "__________________________________________________________________________________________________\n",
            "activation_10 (Activation)      (None, 32, 32, 128)  0           batch_normalization_9[0][0]      \n",
            "__________________________________________________________________________________________________\n",
            "conv2d_transpose_3 (Conv2DTrans (None, 32, 32, 128)  147584      activation_10[0][0]              \n",
            "__________________________________________________________________________________________________\n",
            "batch_normalization_10 (BatchNo (None, 32, 32, 128)  512         conv2d_transpose_3[0][0]         \n",
            "__________________________________________________________________________________________________\n",
            "up_sampling2d_3 (UpSampling2D)  (None, 64, 64, 256)  0           add_3[0][0]                      \n",
            "__________________________________________________________________________________________________\n",
            "up_sampling2d_2 (UpSampling2D)  (None, 64, 64, 128)  0           batch_normalization_10[0][0]     \n",
            "__________________________________________________________________________________________________\n",
            "conv2d_5 (Conv2D)               (None, 64, 64, 128)  32896       up_sampling2d_3[0][0]            \n",
            "__________________________________________________________________________________________________\n",
            "add_4 (Add)                     (None, 64, 64, 128)  0           up_sampling2d_2[0][0]            \n",
            "                                                                 conv2d_5[0][0]                   \n",
            "__________________________________________________________________________________________________\n",
            "activation_11 (Activation)      (None, 64, 64, 128)  0           add_4[0][0]                      \n",
            "__________________________________________________________________________________________________\n",
            "conv2d_transpose_4 (Conv2DTrans (None, 64, 64, 64)   73792       activation_11[0][0]              \n",
            "__________________________________________________________________________________________________\n",
            "batch_normalization_11 (BatchNo (None, 64, 64, 64)   256         conv2d_transpose_4[0][0]         \n",
            "__________________________________________________________________________________________________\n",
            "activation_12 (Activation)      (None, 64, 64, 64)   0           batch_normalization_11[0][0]     \n",
            "__________________________________________________________________________________________________\n",
            "conv2d_transpose_5 (Conv2DTrans (None, 64, 64, 64)   36928       activation_12[0][0]              \n",
            "__________________________________________________________________________________________________\n",
            "batch_normalization_12 (BatchNo (None, 64, 64, 64)   256         conv2d_transpose_5[0][0]         \n",
            "__________________________________________________________________________________________________\n",
            "up_sampling2d_5 (UpSampling2D)  (None, 128, 128, 128 0           add_4[0][0]                      \n",
            "__________________________________________________________________________________________________\n",
            "up_sampling2d_4 (UpSampling2D)  (None, 128, 128, 64) 0           batch_normalization_12[0][0]     \n",
            "__________________________________________________________________________________________________\n",
            "conv2d_6 (Conv2D)               (None, 128, 128, 64) 8256        up_sampling2d_5[0][0]            \n",
            "__________________________________________________________________________________________________\n",
            "add_5 (Add)                     (None, 128, 128, 64) 0           up_sampling2d_4[0][0]            \n",
            "                                                                 conv2d_6[0][0]                   \n",
            "__________________________________________________________________________________________________\n",
            "activation_13 (Activation)      (None, 128, 128, 64) 0           add_5[0][0]                      \n",
            "__________________________________________________________________________________________________\n",
            "conv2d_transpose_6 (Conv2DTrans (None, 128, 128, 32) 18464       activation_13[0][0]              \n",
            "__________________________________________________________________________________________________\n",
            "batch_normalization_13 (BatchNo (None, 128, 128, 32) 128         conv2d_transpose_6[0][0]         \n",
            "__________________________________________________________________________________________________\n",
            "activation_14 (Activation)      (None, 128, 128, 32) 0           batch_normalization_13[0][0]     \n",
            "__________________________________________________________________________________________________\n",
            "conv2d_transpose_7 (Conv2DTrans (None, 128, 128, 32) 9248        activation_14[0][0]              \n",
            "__________________________________________________________________________________________________\n",
            "batch_normalization_14 (BatchNo (None, 128, 128, 32) 128         conv2d_transpose_7[0][0]         \n",
            "__________________________________________________________________________________________________\n",
            "up_sampling2d_7 (UpSampling2D)  (None, 256, 256, 64) 0           add_5[0][0]                      \n",
            "__________________________________________________________________________________________________\n",
            "up_sampling2d_6 (UpSampling2D)  (None, 256, 256, 32) 0           batch_normalization_14[0][0]     \n",
            "__________________________________________________________________________________________________\n",
            "conv2d_7 (Conv2D)               (None, 256, 256, 32) 2080        up_sampling2d_7[0][0]            \n",
            "__________________________________________________________________________________________________\n",
            "add_6 (Add)                     (None, 256, 256, 32) 0           up_sampling2d_6[0][0]            \n",
            "                                                                 conv2d_7[0][0]                   \n",
            "__________________________________________________________________________________________________\n",
            "conv2d_8 (Conv2D)               (None, 256, 256, 3)  867         add_6[0][0]                      \n",
            "==================================================================================================\n",
            "Total params: 2,058,979\n",
            "Trainable params: 2,055,203\n",
            "Non-trainable params: 3,776\n",
            "__________________________________________________________________________________________________\n"
          ],
          "name": "stdout"
        }
      ]
    },
    {
      "cell_type": "code",
      "metadata": {
        "id": "oL3KXiYf-trl"
      },
      "source": [
        ""
      ],
      "execution_count": null,
      "outputs": []
    },
    {
      "cell_type": "markdown",
      "metadata": {
        "id": "a00yaPnrX3c0"
      },
      "source": [
        "### **Training model**"
      ]
    },
    {
      "cell_type": "markdown",
      "metadata": {
        "id": "Dxu1DqyxgLKs"
      },
      "source": [
        "https://keras.io/examples/vision/oxford_pets_image_segmentation/"
      ]
    },
    {
      "cell_type": "code",
      "metadata": {
        "id": "0zqMoVbulwxl"
      },
      "source": [
        "# Optimization params\r\n",
        "# -------------------\r\n",
        "\r\n",
        "# Loss\r\n",
        "# Sparse Categorical Crossentropy to use integers (mask) instead of one-hot encoded labels\r\n",
        "loss = tf.keras.losses.SparseCategoricalCrossentropy() \r\n",
        "# learning rate\r\n",
        "lr = 1e-3\r\n",
        "optimizer = tf.keras.optimizers.Adam(learning_rate=lr)\r\n",
        "# -------------------\r\n",
        "\r\n",
        "# Here we define the intersection over union for each class in the batch.\r\n",
        "# Then we compute the final iou as the mean over classes\r\n",
        "def meanIoU(y_true, y_pred):\r\n",
        "    # get predicted class from softmax\r\n",
        "    y_pred = tf.expand_dims(tf.argmax(y_pred, -1), -1)\r\n",
        "\r\n",
        "    per_class_iou = []\r\n",
        "\r\n",
        "    for i in range(1,3): # exclude the background class 0\r\n",
        "      # Get prediction and target related to only a single class (i)\r\n",
        "      class_pred = tf.cast(tf.where(y_pred == i, 1, 0), tf.float32)\r\n",
        "      class_true = tf.cast(tf.where(y_true == i, 1, 0), tf.float32)\r\n",
        "      intersection = tf.reduce_sum(class_true * class_pred)\r\n",
        "      union = tf.reduce_sum(class_true) + tf.reduce_sum(class_pred) - intersection\r\n",
        "    \r\n",
        "      iou = (intersection + 1e-7) / (union + 1e-7)\r\n",
        "      per_class_iou.append(iou)\r\n",
        "\r\n",
        "    return tf.reduce_mean(per_class_iou)\r\n",
        "\r\n",
        "# Validation metrics\r\n",
        "# ------------------\r\n",
        "metrics = ['accuracy', meanIoU]\r\n",
        "# ------------------\r\n",
        "\r\n",
        "# Compile Model\r\n",
        "model.compile(optimizer=optimizer, loss=loss, metrics=metrics)"
      ],
      "execution_count": null,
      "outputs": []
    },
    {
      "cell_type": "code",
      "metadata": {
        "colab": {
          "base_uri": "https://localhost:8080/"
        },
        "id": "UJjCu1hta9AM",
        "outputId": "4e1e453b-7247-40d0-9db4-854fe93f969b"
      },
      "source": [
        "import os\r\n",
        "from datetime import datetime\r\n",
        "\r\n",
        "cwd = os.getcwd()\r\n",
        "\r\n",
        "exps_dir = os.path.join(cwd, 'drive/My Drive/AN2DL_prj2/', 'U-Net Segmentattion')\r\n",
        "if not os.path.exists(exps_dir):\r\n",
        "    os.makedirs(exps_dir)\r\n",
        "\r\n",
        "now = datetime.now().strftime('%b%d_%H-%M-%S')\r\n",
        "\r\n",
        "model_name = 'U-Net'\r\n",
        "\r\n",
        "exp_dir = os.path.join(exps_dir, model_name + '_' + str(now))\r\n",
        "if not os.path.exists(exp_dir):\r\n",
        "    os.makedirs(exp_dir)\r\n",
        "    \r\n",
        "callbacks = []\r\n",
        "\r\n",
        "# Model checkpoint\r\n",
        "# ----------------\r\n",
        "ckpt_dir = os.path.join(exp_dir, 'ckpts')\r\n",
        "if not os.path.exists(ckpt_dir):\r\n",
        "    os.makedirs(ckpt_dir)\r\n",
        "\r\n",
        "ckpt_callback = tf.keras.callbacks.ModelCheckpoint(filepath=os.path.join(ckpt_dir, 'cp_{epoch:02d}.ckpt'), \r\n",
        "                                                   save_weights_only=True)  # False to save the model directly\r\n",
        "callbacks.append(ckpt_callback)\r\n",
        "\r\n",
        "# Visualize Learning on Tensorboard\r\n",
        "# ---------------------------------\r\n",
        "tb_dir = os.path.join(exp_dir, 'tb_logs')\r\n",
        "if not os.path.exists(tb_dir):\r\n",
        "    os.makedirs(tb_dir)\r\n",
        "    \r\n",
        "# By default shows losses and metrics for both training and validation\r\n",
        "tb_callback = tf.keras.callbacks.TensorBoard(log_dir=tb_dir,\r\n",
        "                                             profile_batch=0,\r\n",
        "                                             histogram_freq=0)  # if 1 shows weights histograms\r\n",
        "callbacks.append(tb_callback)\r\n",
        "\r\n",
        "#Save Best Model\r\n",
        "callbacks.append(keras.callbacks.ModelCheckpoint(\"Best_Model\", save_best_only=True))\r\n",
        "\r\n",
        "# Early Stopping\r\n",
        "# --------------\r\n",
        "early_stop = False\r\n",
        "if early_stop:\r\n",
        "    es_callback = tf.keras.callback.EarlyStopping(monitor='val_loss', patience=10)\r\n",
        "    callbacks.append(es_callback)\r\n",
        "\r\n",
        "# reduce learning rate\r\n",
        "# --------------\r\n",
        "reduce_learning_rate = True\r\n",
        "if reduce_learning_rate:\r\n",
        "    reduce_learning_rate = tf.keras.callbacks.ReduceLROnPlateau(monitor='val_loss', factor=0.1,\r\n",
        "                                         patience=2, verbose=1)\r\n",
        "    callbacks.append(reduce_learning_rate)\r\n",
        "\r\n",
        "model.fit(x=train_dataset_Bipbip,\r\n",
        "          epochs=20,  #### set repeat in training dataset\r\n",
        "          steps_per_epoch=len(dataset_Bipbip),\r\n",
        "          validation_data=valid_dataset_Bipbip,\r\n",
        "          validation_steps=len(dataset_valid_Bipbip), \r\n",
        "          callbacks=callbacks)\r\n",
        "\r\n"
      ],
      "execution_count": null,
      "outputs": [
        {
          "output_type": "stream",
          "text": [
            "Epoch 1/20\n"
          ],
          "name": "stdout"
        }
      ]
    },
    {
      "cell_type": "markdown",
      "metadata": {
        "id": "P09FNxiJqPBL"
      },
      "source": [
        "#**Test model for U-Net**"
      ]
    },
    {
      "cell_type": "markdown",
      "metadata": {
        "id": "hPX0FEEkHV1l"
      },
      "source": [
        "## Visualization of the performance"
      ]
    },
    {
      "cell_type": "code",
      "metadata": {
        "id": "GHrNQ73QHGoC"
      },
      "source": [
        "#Create a dictionary in order to store image directory adresses\r\n",
        "\r\n",
        "import os\r\n",
        "img_dir_names_dic = dict()\r\n",
        "img_dir_names_dic1=dict()\r\n",
        "lst1 = ['Bipbip']\r\n",
        "lst2 = ['Haricot', 'Mais']\r\n",
        "common_add = os.path.join(os.getcwd(),'Development_Dataset','Test_Dev')\r\n",
        "for name in lst1:\r\n",
        "  img_dir_names_dic[name] = os.path.join(common_add , name)\r\n",
        "  for crop in lst2:\r\n",
        "    img_dir_names_dic1[name + '_'+crop] = os.path.join(common_add , name , crop)\r\n",
        "subset_file = os.path.join(img_dir_names_dic1['Bipbip_Haricot'])\r\n"
      ],
      "execution_count": null,
      "outputs": []
    },
    {
      "cell_type": "code",
      "metadata": {
        "id": "Fz6Gq4qVHH6V"
      },
      "source": [
        "test_dataset_Bipbip = tf.data.Dataset.from_generator(lambda: test_dataset_Bipbip,\r\n",
        "                                               output_types=(tf.float32, tf.float32),\r\n",
        "                                               output_shapes=([img_h, img_w, 3], [img_h, img_w, 1]))\r\n",
        "test_dataset_Bipbip = test_dataset_Bipbip.batch(32)\r\n",
        "\r\n",
        "test_dataset_Bipbip = test_dataset_Bipbip.repeat()"
      ],
      "execution_count": null,
      "outputs": []
    },
    {
      "cell_type": "code",
      "metadata": {
        "id": "zo1JbCO5nFJh",
        "scrolled": false
      },
      "source": [
        "import time\r\n",
        "import matplotlib.pyplot as plt\r\n",
        "\r\n",
        "from PIL import Image\r\n",
        "\r\n",
        "%matplotlib inline\r\n",
        "\r\n",
        "iterator = iter(test_dataset_Bipbip)\r\n",
        "#iterator = iter(valid_dataset_Bipbip)\r\n",
        "\r\n",
        "fig, ax = plt.subplots(1, 3, figsize=(8, 8))\r\n",
        "fig.show()\r\n",
        "image, target = next(iterator)\r\n",
        "\r\n",
        "image = image[0]\r\n",
        "target = target[0, ..., 0]\r\n",
        "\r\n",
        "out_sigmoid = model.predict(x=tf.expand_dims(image, 0))\r\n",
        "\r\n",
        "# Get predicted class as the index corresponding to the maximum value in the vector probability\r\n",
        "# predicted_class = tf.cast(out_sigmoid > score_th, tf.int32)\r\n",
        "# predicted_class = predicted_class[0, ..., 0]\r\n",
        "predicted_class = tf.argmax(out_sigmoid, -1)\r\n",
        "\r\n",
        "out_sigmoid.shape\r\n",
        "\r\n",
        "predicted_class = predicted_class[0, ...]\r\n",
        "\r\n",
        "# Assign colors (just for visualization)\r\n",
        "target_img = np.zeros([target.shape[0], target.shape[1], 3])\r\n",
        "prediction_img = np.zeros([target.shape[0], target.shape[1], 3])\r\n",
        "\r\n",
        "target_img[np.where(target == 0)] = [0, 0, 0]\r\n",
        "for i in range(1, 3):\r\n",
        " target_img[np.where(target == i)] = np.array(colors[i-1])[:3] *255\r\n",
        "\r\n",
        "prediction_img[np.where(predicted_class == 0)] = [0, 0, 0]\r\n",
        "for i in range(1, 3):\r\n",
        "  prediction_img[np.where(predicted_class == i)] = np.array(colors[i-1])[:3] * 255\r\n",
        "\r\n",
        "ax[0].imshow(np.uint8(image))\r\n",
        "ax[1].imshow(np.uint8(target_img))\r\n",
        "ax[2].imshow(np.uint8(prediction_img))\r\n",
        "\r\n",
        "fig.canvas.draw()\r\n",
        "time.sleep(1)\r\n"
      ],
      "execution_count": null,
      "outputs": []
    },
    {
      "cell_type": "markdown",
      "metadata": {
        "id": "nG6pvze_HY_G"
      },
      "source": [
        "## Submission for delivery"
      ]
    },
    {
      "cell_type": "code",
      "metadata": {
        "id": "6-es1Wi2i2K9"
      },
      "source": [
        "import os\r\n",
        "import json\r\n",
        "import numpy as np\r\n",
        "from PIL import Image\r\n",
        "\r\n",
        "def rle_encode(img):\r\n",
        "    '''\r\n",
        "    img: numpy array, 1 - foreground, 0 - background\r\n",
        "    Returns run length as string formatted\r\n",
        "    '''\r\n",
        "    pixels = img.flatten()\r\n",
        "    pixels = np.concatenate([[0], pixels, [0]])\r\n",
        "    runs = np.where(pixels[1:] != pixels[:-1])[0] + 1\r\n",
        "    runs[1::2] -= runs[::2]\r\n",
        "    return ' '.join(str(x) for x in runs)\r\n",
        "\r\n",
        "# test_dev_dir =\"Development_Dataset/Test_Dev/\"\r\n",
        "# team = 'Bipbip' | 'Pead' | 'Roseau' | 'Weedelec' \r\n",
        "# crop = 'Haricot' |  'Mais'\r\n",
        " \r\n",
        "\r\n",
        "\r\n",
        "def submit(submission_dict,team,crop):\r\n",
        "\r\n",
        "    path =\"Development_Dataset/Test_Dev/\"\r\n",
        "    dir= os.path.join(path,team,crop,'Images')\r\n",
        "    predected_imges =next(os.walk(dir))[2]\r\n",
        "\r\n",
        "    for img in predected_imges:\r\n",
        "      # load mask <- HERE you should have your segmentation model instead\r\n",
        "\r\n",
        "      #read the image\r\n",
        "      test_image = Image.open(os.path.join(dir,img))\r\n",
        "      size=(256,256)\r\n",
        "      test_image = test_image.resize(size)\r\n",
        "      #image size\r\n",
        "\r\n",
        "      #test_image = image.imread(os.path.join(dir,img))\r\n",
        "      tf_test_image = tf.convert_to_tensor(\r\n",
        "      np.array(test_image), dtype='float32'\r\n",
        "      )\r\n",
        "      out_sigmoid = model.predict(x=tf.expand_dims(tf_test_image, 0))\r\n",
        "      predicted_class = tf.argmax(out_sigmoid, -1)\r\n",
        "      predicted_class = predicted_class[0, ...]\r\n",
        "   \r\n",
        "      mask_arr = np.uint8(predicted_class) #read_rgb_mask(os.path.join(dir, img))\r\n",
        "\r\n",
        "      #----------------------------- ['team'] 'Bipbip' ['crop'] 'Haricot'\r\n",
        "      img_name = img[:-4]\r\n",
        "      submission_dict[img_name] = {}\r\n",
        "      submission_dict[img_name]['shape'] = mask_arr.shape\r\n",
        "      submission_dict[img_name]['team'] = team\r\n",
        "      submission_dict[img_name]['crop'] = crop\r\n",
        "      submission_dict[img_name]['segmentation'] = {}\r\n",
        "\r\n",
        "      # RLE encoding\r\n",
        "      # crop\r\n",
        "      rle_encoded_crop = rle_encode(mask_arr == 1)\r\n",
        "      # weed\r\n",
        "      rle_encoded_weed = rle_encode(mask_arr == 2)\r\n",
        "\r\n",
        "      submission_dict[img_name]['segmentation']['crop'] = rle_encoded_crop\r\n",
        "      submission_dict[img_name]['segmentation']['weed'] = rle_encoded_weed\r\n",
        "\r\n",
        "      \r\n",
        "    return submission_dict\r\n",
        "\r\n",
        "\r\n",
        "def submission():\r\n",
        "  submission_dict = {}\r\n",
        "\r\n",
        "  submission_dict = submit(submission_dict,'Bipbip','Haricot')\r\n",
        "  submission_dict = submit(submission_dict,'Bipbip','Mais')\r\n",
        "\r\n",
        "  # submission_dict = submit(submission_dict,'Pead','Haricot')\r\n",
        "  # submission_dict = submit(submission_dict,'Pead','Mais')\r\n",
        "\r\n",
        "  # submission_dict = submit(submission_dict,'Roseau','Haricot')\r\n",
        "  # submission_dict = submit(submission_dict,'Roseau','Mais')\r\n",
        "\r\n",
        "  # submission_dict = submit(submission_dict,'Weedelec','Haricot')\r\n",
        "  # submission_dict = submit(submission_dict,'Weedelec','Mais')\r\n",
        "\r\n",
        "\r\n",
        " \r\n",
        "\r\n",
        "  # Finally, save the results into the submission.json file\r\n",
        "  with open('submission.json', 'w') as f:\r\n",
        "      json.dump(submission_dict, f)"
      ],
      "execution_count": 1,
      "outputs": []
    },
    {
      "cell_type": "code",
      "metadata": {
        "id": "TR9X-j7iifD3"
      },
      "source": [
        "submission()"
      ],
      "execution_count": null,
      "outputs": []
    },
    {
      "cell_type": "code",
      "metadata": {
        "id": "f9IeCYfyExhQ"
      },
      "source": [
        "\r\n",
        "#Test\r\n",
        "def rle_decode(rle, shape):\r\n",
        "    s = rle.split()\r\n",
        "    starts, lengths = [np.asarray(x, dtype=int) for x in (s[0:][::2], s[1:][::2])]\r\n",
        "    starts -= 1\r\n",
        "    ends = starts + lengths\r\n",
        "    img = np.zeros(shape[0]*shape[1], dtype=np.uint8)\r\n",
        "    for lo, hi in zip(starts, ends):\r\n",
        "        img[lo:hi] = 1\r\n",
        "    return img.reshape(shape)\r\n",
        "\r\n",
        "\r\n",
        "\r\n",
        "\r\n",
        "# Just for completeness, here we show how the rle encoded mask\r\n",
        "# is transformed back to a numpy array\r\n",
        "\r\n",
        "# Read the submission.json file generated by the\r\n",
        "# 'prepare_submission.py' script\r\n",
        "with open('submission.json', 'r') as f:\r\n",
        "    submission_dict = json.load(f)\r\n",
        "img_shape = submission_dict[img_name]['shape']\r\n",
        "rle_encoded_crop = submission_dict[img_name]['segmentation']['crop']\r\n",
        "rle_encoded_weed = submission_dict[img_name]['segmentation']['weed']\r\n",
        "crop_mask = rle_decode(rle_encoded_crop, shape=img_shape)\r\n",
        "weed_mask = rle_decode(rle_encoded_weed, shape=img_shape)\r\n",
        "reconstructed_mask = crop_mask + (weed_mask * 2)\r\n",
        "\r\n",
        "reconstructed_rgb_arr = np.zeros(shape=img_shape + [3])\r\n",
        "\r\n",
        "reconstructed_rgb_arr[reconstructed_mask == 1] = [255, 255, 255]\r\n",
        "reconstructed_rgb_arr[reconstructed_mask == 2] = [216, 67, 82]"
      ],
      "execution_count": null,
      "outputs": []
    },
    {
      "cell_type": "code",
      "metadata": {
        "id": "dKVjKjW2Exd2"
      },
      "source": [
        "reconstructed_rgb_arr"
      ],
      "execution_count": null,
      "outputs": []
    },
    {
      "cell_type": "code",
      "metadata": {
        "id": "1j8p3WfNExaX"
      },
      "source": [
        "\r\n",
        "\r\n",
        "def rle_decode(rle, shape):\r\n",
        "    s = rle.split()\r\n",
        "    starts, lengths = [np.asarray(x, dtype=int) for x in (s[0:][::2], s[1:][::2])]\r\n",
        "    starts -= 1\r\n",
        "    ends = starts + lengths\r\n",
        "    img = np.zeros(shape[0]*shape[1], dtype=np.uint8)\r\n",
        "    for lo, hi in zip(starts, ends):\r\n",
        "        img[lo:hi] = 1\r\n",
        "    return img.reshape(shape)\r\n",
        "\r\n",
        "\r\n",
        "\r\n",
        "\r\n",
        "# Just for completeness, here we show how the rle encoded mask\r\n",
        "# is transformed back to a numpy array\r\n",
        "\r\n",
        "# Read the submission.json file generated by the\r\n",
        "# 'prepare_submission.py' script\r\n",
        "with open('submission.json', 'r') as f:\r\n",
        "    submission_dict = json.load(f)\r\n",
        "\r\n",
        "img_name = 'Bipbip_haricot_im_07421'\r\n",
        "img_shape = submission_dict[img_name]['shape']\r\n",
        "\r\n",
        "rle_encoded_crop = submission_dict[img_name]['segmentation']['crop']\r\n",
        "rle_encoded_weed = submission_dict[img_name]['segmentation']['weed']\r\n",
        "\r\n",
        "# Reconstruct crop and weed binary masks\r\n",
        "crop_mask = rle_decode(rle_encoded_crop, shape=img_shape)\r\n",
        "weed_mask = rle_decode(rle_encoded_weed, shape=img_shape)\r\n",
        "\r\n",
        "# Reconstruct original mask\r\n",
        "# weed_mask * 2 allows to convert ones into target 2 (weed label)\r\n",
        "reconstructed_mask = crop_mask + (weed_mask * 2)\r\n",
        "\r\n",
        "# Just for visualisation purposes, save RGB reconstructed mask\r\n",
        "# Use again the dictionary in 'RGBtoTarget.txt'.\r\n",
        "reconstructed_rgb_arr = np.zeros(shape=img_shape + [3])\r\n",
        "reconstructed_rgb_arr[reconstructed_mask == 1] = [255, 255, 255]\r\n",
        "reconstructed_rgb_arr[reconstructed_mask == 2] = [216, 67, 82]\r\n",
        "\r\n",
        "reconstructed_rgb_img = Image.fromarray(\r\n",
        "    np.uint8(reconstructed_rgb_arr))\r\n",
        "\r\n",
        "reconstructed_rgb_img.save('Development_Dataset/rle_decoded_rgb_mask.png')"
      ],
      "execution_count": null,
      "outputs": []
    },
    {
      "cell_type": "code",
      "metadata": {
        "id": "k2Wvn_HWExYZ"
      },
      "source": [
        ""
      ],
      "execution_count": null,
      "outputs": []
    },
    {
      "cell_type": "code",
      "metadata": {
        "id": "Xsr_PT0fExWD"
      },
      "source": [
        ""
      ],
      "execution_count": null,
      "outputs": []
    },
    {
      "cell_type": "markdown",
      "metadata": {
        "id": "OcSK-WDCF9bs"
      },
      "source": [
        "# **Other Efforts**"
      ]
    },
    {
      "cell_type": "markdown",
      "metadata": {
        "id": "qDXoiiEAGsAb"
      },
      "source": [
        "### Other U-Net"
      ]
    },
    {
      "cell_type": "code",
      "metadata": {
        "id": "m8wGLS3FExT7"
      },
      "source": [
        "def conv2d_block(input_tensor, n_filters, kernel_size = 3, batchnorm = True):\r\n",
        "    \"\"\"Function to add 2 convolutional layers with the parameters passed to it\"\"\"\r\n",
        "    # first layer\r\n",
        "    x = Conv2D(filters = n_filters, kernel_size = (kernel_size, kernel_size),\\\r\n",
        "              kernel_initializer = 'he_normal', padding = 'same')(input_tensor)\r\n",
        "    if batchnorm:\r\n",
        "        x = BatchNormalization()(x)\r\n",
        "    x = Activation('relu')(x)\r\n",
        "    \r\n",
        "    # second layer\r\n",
        "    x = Conv2D(filters = n_filters, kernel_size = (kernel_size, kernel_size),\\\r\n",
        "              kernel_initializer = 'he_normal', padding = 'same')(input_tensor)\r\n",
        "    if batchnorm:\r\n",
        "        x = BatchNormalization()(x)\r\n",
        "    x = Activation('relu')(x)\r\n",
        "    \r\n",
        "    return x\r\n"
      ],
      "execution_count": null,
      "outputs": []
    },
    {
      "cell_type": "code",
      "metadata": {
        "id": "lrBcEJC6ExRg"
      },
      "source": [
        "def get_unet(input_img, n_filters = 16, dropout = 0.1, batchnorm = True):\r\n",
        "    \"\"\"Function to define the UNET Model\"\"\"\r\n",
        "    # Contracting Path\r\n",
        "    c1 = conv2d_block(input_img, n_filters * 1, kernel_size = 3, batchnorm = batchnorm)\r\n",
        "    p1 = MaxPooling2D((2, 2))(c1)\r\n",
        "    p1 = Dropout(dropout)(p1)\r\n",
        "    \r\n",
        "    c2 = conv2d_block(p1, n_filters * 2, kernel_size = 3, batchnorm = batchnorm)\r\n",
        "    p2 = MaxPooling2D((2, 2))(c2)\r\n",
        "    p2 = Dropout(dropout)(p2)\r\n",
        "    \r\n",
        "    c3 = conv2d_block(p2, n_filters * 4, kernel_size = 3, batchnorm = batchnorm)\r\n",
        "    p3 = MaxPooling2D((2, 2))(c3)\r\n",
        "    p3 = Dropout(dropout)(p3)\r\n",
        "    \r\n",
        "    c4 = conv2d_block(p3, n_filters * 8, kernel_size = 3, batchnorm = batchnorm)\r\n",
        "    p4 = MaxPooling2D((2, 2))(c4)\r\n",
        "    p4 = Dropout(dropout)(p4)\r\n",
        "    \r\n",
        "    c5 = conv2d_block(p4, n_filters = n_filters * 16, kernel_size = 3, batchnorm = batchnorm)\r\n",
        "    # Expansive Path\r\n",
        "    u6 = Conv2DTranspose(n_filters * 8, (3, 3), strides = (2, 2), padding = 'same')(c5)\r\n",
        "    u6 = concatenate([u6, c4])\r\n",
        "    u6 = Dropout(dropout)(u6)\r\n",
        "    c6 = conv2d_block(u6, n_filters * 8, kernel_size = 3, batchnorm = batchnorm)\r\n",
        "    \r\n",
        "    u7 = Conv2DTranspose(n_filters * 4, (3, 3), strides = (2, 2), padding = 'same')(c6)\r\n",
        "    u7 = concatenate([u7, c3])\r\n",
        "    u7 = Dropout(dropout)(u7)\r\n",
        "    c7 = conv2d_block(u7, n_filters * 4, kernel_size = 3, batchnorm = batchnorm)\r\n",
        "    \r\n",
        "    u8 = Conv2DTranspose(n_filters * 2, (3, 3), strides = (2, 2), padding = 'same')(c7)\r\n",
        "    u8 = concatenate([u8, c2])\r\n",
        "    u8 = Dropout(dropout)(u8)\r\n",
        "    c8 = conv2d_block(u8, n_filters * 2, kernel_size = 3, batchnorm = batchnorm)\r\n",
        "    \r\n",
        "    u9 = Conv2DTranspose(n_filters * 1, (3, 3), strides = (2, 2), padding = 'same')(c8)\r\n",
        "    u9 = concatenate([u9, c1])\r\n",
        "    u9 = Dropout(dropout)(u9)\r\n",
        "    c9 = conv2d_block(u9, n_filters * 1, kernel_size = 3, batchnorm = batchnorm)\r\n",
        "    \r\n",
        "    outputs = Conv2D(filters=3,kernel_size= (1, 1),strides=(1,1),padding='same', activation='sigmoid')(c9)\r\n",
        "    model = Model(inputs=[input_img], outputs=[outputs])\r\n",
        "    return model"
      ],
      "execution_count": null,
      "outputs": []
    },
    {
      "cell_type": "code",
      "metadata": {
        "id": "JXCoaj3fG0O9"
      },
      "source": [
        "input_img = Input((256, 256, 3))\r\n",
        "mysmodel=tf.keras.Sequential()\r\n",
        "mysmodel.add(Resmodel)\r\n",
        "mysmodel.add(get_unet(input_img=input_img,n_filters=256))"
      ],
      "execution_count": null,
      "outputs": []
    },
    {
      "cell_type": "code",
      "metadata": {
        "id": "eWmDl-3KG0L9"
      },
      "source": [
        ""
      ],
      "execution_count": null,
      "outputs": []
    },
    {
      "cell_type": "markdown",
      "metadata": {
        "id": "CcvDPnmdHvFM"
      },
      "source": [
        "### **Vgg-Unet with Fine Tuning**"
      ]
    },
    {
      "cell_type": "code",
      "metadata": {
        "id": "usMlhk2OG0JN"
      },
      "source": [
        "vgg = tf.keras.applications.VGG16(weights='imagenet', include_top=False, input_shape=(img_h, img_w, 3))\r\n",
        "vgg.summary()\r\n",
        "\r\n",
        "finetuning = True\r\n",
        "\r\n",
        "if finetuning:\r\n",
        "    freeze_until = 15 # layer from which we want to fine-tune\r\n",
        "    \r\n",
        "    for layer in vgg.layers[:freeze_until]:\r\n",
        "        layer.trainable = False\r\n",
        "else:\r\n",
        "    vgg.trainable = False\r\n",
        "    \r\n"
      ],
      "execution_count": null,
      "outputs": []
    },
    {
      "cell_type": "code",
      "metadata": {
        "id": "7A7WgdUVG0HR"
      },
      "source": [
        "from tensorflow.keras import layers\r\n",
        "import keras\r\n",
        "\r\n",
        "def get_model(img_size, num_classes):\r\n",
        "    inputs = keras.Input(shape=img_size + (3,))\r\n",
        "\r\n",
        "    ### [First half of the network: downsampling inputs] ###\r\n",
        "\r\n",
        "    # Entry block\r\n",
        "    x = layers.Conv2D(32, 3, strides=2, padding=\"same\")(inputs)\r\n",
        "    x = layers.BatchNormalization()(x)\r\n",
        "    x = layers.Activation(\"relu\")(x)\r\n",
        "\r\n",
        "    previous_block_activation = x  # Set aside residual\r\n",
        "\r\n",
        "    # Blocks 1, 2, 3 are identical apart from the feature depth.\r\n",
        "    for filters in [64, 128, 256]:\r\n",
        "        x = layers.Activation(\"relu\")(x)\r\n",
        "        x = layers.SeparableConv2D(filters, 3, padding=\"same\")(x)\r\n",
        "        x = layers.BatchNormalization()(x)\r\n",
        "\r\n",
        "        x = layers.Activation(\"relu\")(x)\r\n",
        "        x = layers.SeparableConv2D(filters, 3, padding=\"same\")(x)\r\n",
        "        x = layers.BatchNormalization()(x)\r\n",
        "\r\n",
        "        x = layers.MaxPooling2D(3, strides=2, padding=\"same\")(x)\r\n",
        "\r\n",
        "        # Project residual\r\n",
        "        residual = layers.Conv2D(filters, 1, strides=2, padding=\"same\")(\r\n",
        "            previous_block_activation\r\n",
        "        )\r\n",
        "        x = layers.add([x, residual])  # Add back residual\r\n",
        "        previous_block_activation = x  # Set aside next residual\r\n",
        "\r\n",
        "    ### [Second half of the network: upsampling inputs] ###\r\n",
        "\r\n",
        "    for filters in [256, 128, 64, 32]:\r\n",
        "        x = layers.Activation(\"relu\")(x)\r\n",
        "        x = layers.Conv2DTranspose(filters, 3, padding=\"same\")(x)\r\n",
        "        x = layers.BatchNormalization()(x)\r\n",
        "\r\n",
        "        x = layers.Activation(\"relu\")(x)\r\n",
        "        x = layers.Conv2DTranspose(filters, 3, padding=\"same\")(x)\r\n",
        "        x = layers.BatchNormalization()(x)\r\n",
        "\r\n",
        "        x = layers.UpSampling2D(2)(x)\r\n",
        "\r\n",
        "        # Project residual\r\n",
        "        residual = layers.UpSampling2D(2)(previous_block_activation)\r\n",
        "        residual = layers.Conv2D(filters, 1, padding=\"same\")(residual)\r\n",
        "        x = layers.add([x, residual])  # Add back residual\r\n",
        "        previous_block_activation = x  # Set aside next residual\r\n",
        "\r\n",
        "    # Add a per-pixel classification layer\r\n",
        "    outputs = layers.Conv2D(num_classes, 3, activation=\"softmax\", padding=\"same\")(x)\r\n",
        "\r\n",
        "    # Define the model\r\n",
        "    model = keras.Model(inputs, outputs)\r\n",
        "    return model\r\n",
        "\r\n",
        "\r\n",
        "# Free up RAM in case the model definition cells were run multiple times\r\n",
        "keras.backend.clear_session()\r\n",
        "img_size=(256,256)\r\n",
        "num_classes=3\r\n",
        "# Build model\r\n",
        "model=keras.Sequential()\r\n",
        "model.add(vgg)\r\n",
        "model = get_model(img_size, num_classes)\r\n",
        "model.summary()"
      ],
      "execution_count": null,
      "outputs": []
    },
    {
      "cell_type": "code",
      "metadata": {
        "id": "XbfzjSFlG0Er"
      },
      "source": [
        ""
      ],
      "execution_count": null,
      "outputs": []
    },
    {
      "cell_type": "markdown",
      "metadata": {
        "id": "AG5iqvr_I25C"
      },
      "source": [
        "###**Keras Segmentation Vgg Unet**"
      ]
    },
    {
      "cell_type": "code",
      "metadata": {
        "id": "AOWX9KmAG0DK"
      },
      "source": [
        "from keras_segmentation.models.unet import vgg_unet\r\n",
        "!pip install git+https://github.com/qubvel/segmentation_models\r\n",
        "!apt-get install -y libsm6 libxext6 libxrender-dev\r\n",
        "!pip install opencv-python\r\n",
        "#from segmentation_models.unet import vgg_unet\r\n"
      ],
      "execution_count": null,
      "outputs": []
    },
    {
      "cell_type": "markdown",
      "metadata": {
        "id": "6-aFINV0JPZm"
      },
      "source": [
        "Building the model"
      ]
    },
    {
      "cell_type": "code",
      "metadata": {
        "id": "o4VGMXKwG0Au"
      },
      "source": [
        "img_input = Input(shape=(256,256 , 3 ))\r\n",
        "vggunetmodel = vgg_unet(n_classes=51 ,  input_height=416, input_width=608  )\r\n",
        "\r\n",
        "conv1 = Conv2D(32, (3, 3), activation='relu', padding='same')(vggunet)\r\n",
        "conv1 = Dropout(0.2)(conv1)\r\n",
        "conv1 = Conv2D(32, (3, 3), activation='relu', padding='same')(conv1)\r\n",
        "pool1 = MaxPooling2D((2, 2))(conv1)\r\n",
        "\r\n",
        "conv2 = Conv2D(64, (3, 3), activation='relu', padding='same')(pool1)\r\n",
        "conv2 = Dropout(0.2)(conv2)\r\n",
        "conv2 = Conv2D(64, (3, 3), activation='relu', padding='same')(conv2)\r\n",
        "pool2 = MaxPooling2D((2, 2))(conv2)\r\n",
        "conv3 = Conv2D(128, (3, 3), activation='relu', padding='same')(pool2)\r\n",
        "conv3 = Dropout(0.2)(conv3)\r\n",
        "conv3 = Conv2D(128, (3, 3), activation='relu', padding='same')(conv3)\r\n",
        "\r\n",
        "up1 = concatenate([UpSampling2D((2, 2))(conv3), conv2], axis=-1)\r\n",
        "conv4 = Conv2D(64, (3, 3), activation='relu', padding='same')(up1)\r\n",
        "conv4 = Dropout(0.2)(conv4)\r\n",
        "conv4 = Conv2D(64, (3, 3), activation='relu', padding='same')(conv4)\r\n",
        "\r\n",
        "up2 = concatenate([UpSampling2D((2, 2))(conv4), conv1], axis=-1)\r\n",
        "conv5 = Conv2D(32, (3, 3), activation='relu', padding='same')(up2)\r\n",
        "conv5 = Dropout(0.2)(conv5)\r\n",
        "conv5 = Conv2D(32, (3, 3), activation='relu', padding='same')(conv5)\r\n",
        "\r\n"
      ],
      "execution_count": null,
      "outputs": []
    },
    {
      "cell_type": "markdown",
      "metadata": {
        "id": "1a1eXggCJhKs"
      },
      "source": [
        "This is just to show that we could have used any model instead of Vgg"
      ]
    },
    {
      "cell_type": "code",
      "metadata": {
        "id": "FNAji0BfGz-R"
      },
      "source": [
        "from keras_segmentation.pretrained import pspnet_50_ADE_20K , pspnet_101_cityscapes, pspnet_101_voc12\r\n",
        "pre_model = pspnet_50_ADE_20K() # load the pretrained model trained on ADE20k dataset\r\n"
      ],
      "execution_count": null,
      "outputs": []
    },
    {
      "cell_type": "code",
      "metadata": {
        "id": "P8pZ5swGGz7y"
      },
      "source": [
        "from keras_segmentation.models.unet import vgg_unet\r\n",
        "pre_model = vgg_unet(n_classes=3 ,  input_height=256, input_width=256  )"
      ],
      "execution_count": null,
      "outputs": []
    },
    {
      "cell_type": "markdown",
      "metadata": {
        "id": "l6EexWBfJ0TH"
      },
      "source": [
        "Getting rid of the last layer to do the segmentation better"
      ]
    },
    {
      "cell_type": "code",
      "metadata": {
        "id": "wzfZZfpdJs4j"
      },
      "source": [
        "pre_model.layers.pop()\r\n",
        "premodel.outputs = [pre_model.layers[-1].output]\r\n",
        "model=tf.keras.Sequential()\r\n",
        "for layer in pre_model.layer[:,-1]:# go through until the last layer\r\n",
        "  model.add(layer)\r\n",
        "model.add(tf.keras.layers.GlobalAveragePooling2D())  \r\n",
        "x=model.add(Dens(3,activation='relu'))\r\n",
        "x=model.add(Dropout(0.4))\r\n",
        "model.add(Dense(num_classes, activation='softmax', name='predictions')\r\n",
        "model.compile(optimizer='adam', loss='categorical_crossentropy')\r\n",
        "model.summary()\r\n"
      ],
      "execution_count": null,
      "outputs": []
    },
    {
      "cell_type": "markdown",
      "metadata": {
        "id": "RNb6kUr7LhHj"
      },
      "source": [
        "The above one did not worked"
      ]
    },
    {
      "cell_type": "code",
      "metadata": {
        "id": "bbNr8DtKJswp"
      },
      "source": [
        ""
      ],
      "execution_count": null,
      "outputs": []
    },
    {
      "cell_type": "code",
      "metadata": {
        "id": "UI7GYE1AJst-"
      },
      "source": [
        "def ConvBlock(X,channel,kernel_size,bn=True):\r\n",
        "  x=layers.Conv2D(filters=channel,kernel_size=(kernel_size,kernel_size),strides=(1,1),dilation_rate=(1,1),padding='SAME',kernel_initializer='he_normal')(X)\r\n",
        "  if bn:\r\n",
        "    x=layers.BatchNormalization()(x)\r\n",
        "  x=layers.Activation('relu')(x)\r\n",
        "\r\n",
        "  x=layers.Conv2D(filters=channel,kernel_size=(kernel_size,kernel_size),strides=(1,1),dilation_rate=(1,1),padding='SAME',kernel_initializer='he_normal')(x)\r\n",
        "  if bn:\r\n",
        "    x=layers.BatchNormalization()(x)\r\n",
        "  x=layers.Activation('relu')(x)\r\n",
        "  return x"
      ],
      "execution_count": null,
      "outputs": []
    },
    {
      "cell_type": "markdown",
      "metadata": {
        "id": "qPzkfe4nL37B"
      },
      "source": [
        "## **ResNet 34 , Skip Connection**\r\n",
        "\r\n",
        "\r\n"
      ]
    },
    {
      "cell_type": "markdown",
      "metadata": {
        "id": "cBsdd8zVL33e"
      },
      "source": [
        ""
      ]
    },
    {
      "cell_type": "markdown",
      "metadata": {
        "id": "gyj42E4iNbYz"
      },
      "source": [
        "The same thing as before but this time we have used Resnet 34,\r\n",
        "We used some of the connectinos as skip connectinos"
      ]
    },
    {
      "cell_type": "markdown",
      "metadata": {
        "id": "47DugddgNbLy"
      },
      "source": [
        ""
      ]
    },
    {
      "cell_type": "code",
      "metadata": {
        "id": "Gmx6snklLuqU"
      },
      "source": [
        "from classification_models.keras import Classifiers\r\n",
        "\r\n",
        "ResNet34, preprocess_input = Classifiers.get('resnet34')\r\n",
        "Resmodel = ResNet34((256, 256, 3), weights='imagenet') \r\n",
        "Resmodel.summary()"
      ],
      "execution_count": null,
      "outputs": []
    },
    {
      "cell_type": "code",
      "metadata": {
        "id": "qcImxwNULuni"
      },
      "source": [
        "def ConvBlock(X,channel,kernel_size,bn=True):\r\n",
        "  x=layers.Conv2D(filters=channel,kernel_size=(kernel_size,kernel_size),strides=(1,1),dilation_rate=(1,1),padding='SAME',kernel_initializer='he_normal')(X)\r\n",
        "  if bn:\r\n",
        "    x=layers.BatchNormalization()(x)\r\n",
        "  x=layers.Activation('relu')(x)\r\n",
        "\r\n",
        "  x=layers.Conv2D(filters=channel,kernel_size=(kernel_size,kernel_size),strides=(1,1),dilation_rate=(1,1),padding='SAME',kernel_initializer='he_normal')(x)\r\n",
        "  if bn:\r\n",
        "    x=layers.BatchNormalization()(x)\r\n",
        "  x=layers.Activation('relu')(x)\r\n",
        "  return x\r\n"
      ],
      "execution_count": null,
      "outputs": []
    },
    {
      "cell_type": "code",
      "metadata": {
        "id": "Ibz39dzrLulA"
      },
      "source": [
        "def new_model(output_channel,output_activation):\r\n",
        "  inp=Resmodel.input\r\n",
        "\r\n",
        "  skip1=Resmodel.layers[5].output #128x128x64\r\n",
        "  skip2=Resmodel.layers[37].output #64x64x64\r\n",
        "  skip3=Resmodel.layers[74].output #32x32x128\r\n",
        "  skip4=Resmodel.layers[129].output #16x16x256\r\n",
        "  encoder_final=Resmodel.layers[157].output #8x8x512\r\n",
        "\r\n",
        "  #upsample \r\n",
        "  filters=256\r\n",
        "  k=1\r\n",
        "\r\n",
        "  x=layers.UpSampling2D()(encoder_final) #returns 16x16x256\r\n",
        "  x=layers.Concatenate()([x,skip4]) #returns 16x16x512\r\n",
        "  x=ConvBlock(x,filters,kernel_size=3) #returns 16x16x256\r\n",
        "  filters //=2\r\n",
        "\r\n",
        "  x=layers.UpSampling2D()(x) #returns 32x32x128\r\n",
        "  x=layers.Concatenate()([x,skip3]) #returns 32x32x256\r\n",
        "  x=ConvBlock(x,filters,kernel_size=3) #returns 32x32x128\r\n",
        "  filters //=2\r\n",
        "\r\n",
        "  x=layers.UpSampling2D()(x) #returns 64x64x64\r\n",
        "  x=layers.Concatenate()([x,skip2]) #returns 64x64x128\r\n",
        "  x=ConvBlock(x,filters,kernel_size=3) #returns 64x64x64\r\n",
        "  filters //=2 \r\n",
        "\r\n",
        "  x=layers.UpSampling2D()(x) #returns 128x128x64\r\n",
        "  x=layers.Concatenate()([x,skip1]) #returns 128x128x128\r\n",
        "  x=ConvBlock(x,filters,kernel_size=3) #returns 128x128x32\r\n",
        "  filters //=2\r\n",
        "\r\n",
        "  x=layers.UpSampling2D()(x) #returns 256x256x32\r\n",
        "  x=ConvBlock(x,filters,kernel_size=3) #returns 256x256x16\r\n",
        "  x = layers.Conv2D(output_channel, kernel_size= (1,1), strides=(1,1), padding= 'same')(x)  #returns 256x256x1\r\n",
        "  x=layers.Activation('sigmoid')(x)\r\n",
        "  model=Model(inputs=inp,outputs=x)\r\n",
        "  return model\r\n"
      ],
      "execution_count": null,
      "outputs": []
    },
    {
      "cell_type": "code",
      "metadata": {
        "id": "GxghsWhmMHlq"
      },
      "source": [
        "# Optimization params\r\n",
        "# -------------------\r\n",
        "\r\n",
        "# Loss\r\n",
        "# Sparse Categorical Crossentropy to use integers (mask) instead of one-hot encoded labels\r\n",
        "loss = tf.keras.losses.SparseCategoricalCrossentropy() \r\n",
        "# learning rate\r\n",
        "lr = 1e-3\r\n",
        "optimizer = tf.keras.optimizers.Adam(learning_rate=lr)\r\n",
        "# -------------------\r\n",
        "\r\n",
        "# Here we define the intersection over union for each class in the batch.\r\n",
        "# Then we compute the final iou as the mean over classes\r\n",
        "def meanIoU(y_true, y_pred):\r\n",
        "    # get predicted class from softmax\r\n",
        "    y_pred = tf.expand_dims(tf.argmax(y_pred, -1), -1)\r\n",
        "\r\n",
        "    per_class_iou = []\r\n",
        "\r\n",
        "    for i in range(1,3): # exclude the background class 0\r\n",
        "      # Get prediction and target related to only a single class (i)\r\n",
        "      class_pred = tf.cast(tf.where(y_pred == i, 1, 0), tf.float32)\r\n",
        "      class_true = tf.cast(tf.where(y_true == i, 1, 0), tf.float32)\r\n",
        "      intersection = tf.reduce_sum(class_true * class_pred)\r\n",
        "      union = tf.reduce_sum(class_true) + tf.reduce_sum(class_pred) - intersection\r\n",
        "    \r\n",
        "      iou = (intersection + 1e-7) / (union + 1e-7)\r\n",
        "      per_class_iou.append(iou)\r\n",
        "\r\n",
        "    return tf.reduce_mean(per_class_iou)\r\n",
        "\r\n",
        "# Validation metrics\r\n",
        "# ------------------\r\n",
        "metrics = ['accuracy', meanIoU]\r\n",
        "# ------------------\r\n",
        "\r\n",
        "# Compile Model\r\n",
        "model.compile(optimizer=optimizer, loss=loss, metrics=metrics)"
      ],
      "execution_count": null,
      "outputs": []
    },
    {
      "cell_type": "markdown",
      "metadata": {
        "id": "kbvqon7PLv6E"
      },
      "source": [
        "##**another U-net**\r\n",
        "\r\n",
        "\r\n"
      ]
    },
    {
      "cell_type": "markdown",
      "metadata": {
        "id": "Q08MsLceNyPS"
      },
      "source": [
        "Well we just put this to make our salad table more fancy. Not our work. but searching (who didn't?)throuhg internet puting one another alternative for U-net. "
      ]
    },
    {
      "cell_type": "code",
      "metadata": {
        "id": "-2ignHTTLusY"
      },
      "source": [
        "def my_unet(pretrained_weights = None,input_size = (256,256,1)):\r\n",
        "    inputs = Input(input_size)\r\n",
        "    conv1 = Conv2D(64, 3, activation = 'relu', padding = 'same', kernel_initializer = 'he_normal')(inputs)\r\n",
        "    conv1 = Conv2D(64, 3, activation = 'relu', padding = 'same', kernel_initializer = 'he_normal')(conv1)\r\n",
        "    pool1 = MaxPooling2D(pool_size=(2, 2))(conv1)\r\n",
        "    conv2 = Conv2D(128, 3, activation = 'relu', padding = 'same', kernel_initializer = 'he_normal')(pool1)\r\n",
        "    conv2 = Conv2D(128, 3, activation = 'relu', padding = 'same', kernel_initializer = 'he_normal')(conv2)\r\n",
        "    pool2 = MaxPooling2D(pool_size=(2, 2))(conv2)\r\n",
        "    conv3 = Conv2D(256, 3, activation = 'relu', padding = 'same', kernel_initializer = 'he_normal')(pool2)\r\n",
        "    conv3 = Conv2D(256, 3, activation = 'relu', padding = 'same', kernel_initializer = 'he_normal')(conv3)\r\n",
        "    pool3 = MaxPooling2D(pool_size=(2, 2))(conv3)\r\n",
        "    conv4 = Conv2D(512, 3, activation = 'relu', padding = 'same', kernel_initializer = 'he_normal')(pool3)\r\n",
        "    conv4 = Conv2D(512, 3, activation = 'relu', padding = 'same', kernel_initializer = 'he_normal')(conv4)\r\n",
        "    drop4 = Dropout(0.5)(conv4)\r\n",
        "    pool4 = MaxPooling2D(pool_size=(2, 2))(drop4)\r\n",
        "\r\n",
        "    conv5 = Conv2D(1024, 3, activation = 'relu', padding = 'same', kernel_initializer = 'he_normal')(pool4)\r\n",
        "    conv5 = Conv2D(1024, 3, activation = 'relu', padding = 'same', kernel_initializer = 'he_normal')(conv5)\r\n",
        "    drop5 = Dropout(0.5)(conv5)\r\n",
        "\r\n",
        "    up6 = Conv2D(512, 2, activation = 'relu', padding = 'same', kernel_initializer = 'he_normal')(UpSampling2D(size = (2,2))(drop5))\r\n",
        "    merge6 = concatenate([drop4,up6], axis = 3)\r\n",
        "    conv6 = Conv2D(512, 3, activation = 'relu', padding = 'same', kernel_initializer = 'he_normal')(merge6)\r\n",
        "    conv6 = Conv2D(512, 3, activation = 'relu', padding = 'same', kernel_initializer = 'he_normal')(conv6)\r\n",
        "\r\n",
        "    up7 = Conv2D(256, 2, activation = 'relu', padding = 'same', kernel_initializer = 'he_normal')(UpSampling2D(size = (2,2))(conv6))\r\n",
        "    merge7 = concatenate([conv3,up7], axis = 3)\r\n",
        "    conv7 = Conv2D(256, 3, activation = 'relu', padding = 'same', kernel_initializer = 'he_normal')(merge7)\r\n",
        "    conv7 = Conv2D(256, 3, activation = 'relu', padding = 'same', kernel_initializer = 'he_normal')(conv7)\r\n",
        "\r\n",
        "    up8 = Conv2D(128, 2, activation = 'relu', padding = 'same', kernel_initializer = 'he_normal')(UpSampling2D(size = (2,2))(conv7))\r\n",
        "    merge8 = concatenate([conv2,up8], axis = 3)\r\n",
        "    conv8 = Conv2D(128, 3, activation = 'relu', padding = 'same', kernel_initializer = 'he_normal')(merge8)\r\n",
        "    conv8 = Conv2D(128, 3, activation = 'relu', padding = 'same', kernel_initializer = 'he_normal')(conv8)\r\n",
        "\r\n",
        "    up9 = Conv2D(64, 2, activation = 'relu', padding = 'same', kernel_initializer = 'he_normal')(UpSampling2D(size = (2,2))(conv8))\r\n",
        "    merge9 = concatenate([conv1,up9], axis = 3)\r\n",
        "    conv9 = Conv2D(64, 3, activation = 'relu', padding = 'same', kernel_initializer = 'he_normal')(merge9)\r\n",
        "    conv9 = Conv2D(64, 3, activation = 'relu', padding = 'same', kernel_initializer = 'he_normal')(conv9)\r\n",
        "    conv9 = Conv2D(2, 3, activation = 'relu', padding = 'same', kernel_initializer = 'he_normal')(conv9)\r\n",
        "    conv10 = Conv2D(1, 1, activation = 'sigmoid')(conv9)\r\n",
        "\r\n",
        "    model = Model(input = inputs, output = conv10)\r\n",
        "\r\n",
        "    model.compile(optimizer = Adam(lr = 1e-4), loss = 'binary_crossentropy', metrics = ['accuracy'])\r\n",
        "    \r\n",
        "    #model.summary()\r\n",
        "\r\n",
        "    if(pretrained_weights):\r\n",
        "    \tmodel.load_weights(pretrained_weights)\r\n",
        "\r\n",
        "    return model"
      ],
      "execution_count": null,
      "outputs": []
    }
  ]
}